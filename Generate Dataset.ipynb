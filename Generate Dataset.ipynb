{
 "cells": [
  {
   "cell_type": "code",
   "execution_count": 1,
   "metadata": {},
   "outputs": [],
   "source": [
    "import cv2\n",
    "\n",
    "import os\n",
    "from pathlib import Path\n",
    "\n",
    "\n",
    "\n",
    "\n",
    "\n",
    "  \n"
   ]
  },
  {
   "cell_type": "code",
   "execution_count": 2,
   "metadata": {},
   "outputs": [],
   "source": [
    "faceCascade = cv2.CascadeClassifier(\"haarcascade_frontalface_default.xml\")\n",
    "cv = cv2.VideoCapture(0)\n"
   ]
  },
  {
   "cell_type": "code",
   "execution_count": 3,
   "metadata": {},
   "outputs": [
    {
     "name": "stdout",
     "output_type": "stream",
     "text": [
      "Enter the id and name of the person: \n",
      "1\n",
      "sush\n"
     ]
    }
   ],
   "source": [
    "print(\"Enter the id and name of the person: \")\n",
    "userId = input()\n",
    "userName = input()\n"
   ]
  },
  {
   "cell_type": "code",
   "execution_count": 4,
   "metadata": {},
   "outputs": [],
   "source": [
    "count = 1"
   ]
  },
  {
   "cell_type": "code",
   "execution_count": 5,
   "metadata": {},
   "outputs": [],
   "source": [
    "def saveImage(image, userName, userId, imgId):\n",
    "    Path(\"Dataset/{}\".format(userName)).mkdir(parents=True, exist_ok=True)\n",
    "    cv2.imwrite(\"dataset/{}/{}_{}.jpg\".format(userName, userId, imgId), image)\n",
    "    print(\"[INFO] Image {} has been saved in folder : {}\".format(\n",
    "        imgId, userName))"
   ]
  },
  {
   "cell_type": "code",
   "execution_count": 6,
   "metadata": {},
   "outputs": [
    {
     "name": "stdout",
     "output_type": "stream",
     "text": [
      "[INFO] Image 1 has been saved in folder : sush\n",
      "[INFO] Image 2 has been saved in folder : sush\n",
      "[INFO] Image 3 has been saved in folder : sush\n",
      "[INFO] Image 4 has been saved in folder : sush\n",
      "[INFO] Image 5 has been saved in folder : sush\n",
      "[INFO] Image 6 has been saved in folder : sush\n",
      "[INFO] Image 7 has been saved in folder : sush\n",
      "[INFO] Image 8 has been saved in folder : sush\n",
      "[INFO] Image 9 has been saved in folder : sush\n",
      "[INFO] Image 10 has been saved in folder : sush\n",
      "[INFO] Image 11 has been saved in folder : sush\n",
      "[INFO] Image 12 has been saved in folder : sush\n",
      "[INFO] Image 13 has been saved in folder : sush\n",
      "[INFO] Image 14 has been saved in folder : sush\n",
      "[INFO] Image 15 has been saved in folder : sush\n",
      "[INFO] Image 16 has been saved in folder : sush\n",
      "[INFO] Image 17 has been saved in folder : sush\n",
      "[INFO] Image 18 has been saved in folder : sush\n",
      "[INFO] Image 19 has been saved in folder : sush\n",
      "[INFO] Image 20 has been saved in folder : sush\n",
      "[INFO] Image 21 has been saved in folder : sush\n",
      "[INFO] Image 22 has been saved in folder : sush\n",
      "[INFO] Image 23 has been saved in folder : sush\n",
      "[INFO] Image 24 has been saved in folder : sush\n",
      "[INFO] Image 25 has been saved in folder : sush\n",
      "[INFO] Image 26 has been saved in folder : sush\n",
      "[INFO] Image 27 has been saved in folder : sush\n",
      "[INFO] Image 28 has been saved in folder : sush\n",
      "[INFO] Image 29 has been saved in folder : sush\n",
      "[INFO] Image 30 has been saved in folder : sush\n",
      "[INFO] Image 31 has been saved in folder : sush\n",
      "[INFO] Image 32 has been saved in folder : sush\n",
      "[INFO] Image 33 has been saved in folder : sush\n",
      "[INFO] Image 34 has been saved in folder : sush\n",
      "[INFO] Image 35 has been saved in folder : sush\n",
      "[INFO] Image 36 has been saved in folder : sush\n",
      "[INFO] Image 37 has been saved in folder : sush\n",
      "[INFO] Image 38 has been saved in folder : sush\n",
      "[INFO] Image 39 has been saved in folder : sush\n",
      "[INFO] Image 40 has been saved in folder : sush\n",
      "[INFO] Image 41 has been saved in folder : sush\n",
      "[INFO] Image 42 has been saved in folder : sush\n",
      "[INFO] Image 43 has been saved in folder : sush\n",
      "[INFO] Image 44 has been saved in folder : sush\n",
      "[INFO] Image 45 has been saved in folder : sush\n",
      "[INFO] Image 46 has been saved in folder : sush\n",
      "[INFO] Image 47 has been saved in folder : sush\n",
      "[INFO] Image 48 has been saved in folder : sush\n",
      "[INFO] Image 49 has been saved in folder : sush\n",
      "[INFO] Image 50 has been saved in folder : sush\n",
      "[INFO] Image 51 has been saved in folder : sush\n",
      "[INFO] Image 52 has been saved in folder : sush\n",
      "[INFO] Image 53 has been saved in folder : sush\n",
      "[INFO] Image 54 has been saved in folder : sush\n",
      "[INFO] Image 55 has been saved in folder : sush\n",
      "[INFO] Image 56 has been saved in folder : sush\n",
      "[INFO] Image 57 has been saved in folder : sush\n",
      "[INFO] Image 58 has been saved in folder : sush\n",
      "[INFO] Image 59 has been saved in folder : sush\n",
      "[INFO] Image 60 has been saved in folder : sush\n",
      "[INFO] Image 61 has been saved in folder : sush\n",
      "[INFO] Image 62 has been saved in folder : sush\n",
      "[INFO] Image 63 has been saved in folder : sush\n",
      "[INFO] Image 64 has been saved in folder : sush\n",
      "[INFO] Image 65 has been saved in folder : sush\n",
      "[INFO] Image 66 has been saved in folder : sush\n",
      "[INFO] Image 67 has been saved in folder : sush\n",
      "[INFO] Image 68 has been saved in folder : sush\n",
      "[INFO] Image 69 has been saved in folder : sush\n",
      "[INFO] Image 70 has been saved in folder : sush\n",
      "[INFO] Image 71 has been saved in folder : sush\n",
      "[INFO] Image 72 has been saved in folder : sush\n",
      "[INFO] Image 73 has been saved in folder : sush\n",
      "[INFO] Image 74 has been saved in folder : sush\n",
      "[INFO] Image 75 has been saved in folder : sush\n",
      "[INFO] Image 76 has been saved in folder : sush\n",
      "[INFO] Image 77 has been saved in folder : sush\n",
      "[INFO] Image 78 has been saved in folder : sush\n",
      "[INFO] Image 79 has been saved in folder : sush\n",
      "[INFO] Image 80 has been saved in folder : sush\n",
      "[INFO] Image 81 has been saved in folder : sush\n",
      "[INFO] Image 82 has been saved in folder : sush\n",
      "[INFO] Image 83 has been saved in folder : sush\n",
      "[INFO] Image 84 has been saved in folder : sush\n",
      "[INFO] Image 85 has been saved in folder : sush\n",
      "[INFO] Image 86 has been saved in folder : sush\n",
      "[INFO] Image 87 has been saved in folder : sush\n",
      "[INFO] Image 88 has been saved in folder : sush\n",
      "[INFO] Image 89 has been saved in folder : sush\n",
      "[INFO] Image 90 has been saved in folder : sush\n",
      "[INFO] Image 91 has been saved in folder : sush\n",
      "[INFO] Image 92 has been saved in folder : sush\n",
      "[INFO] Image 93 has been saved in folder : sush\n",
      "[INFO] Image 94 has been saved in folder : sush\n",
      "[INFO] Image 95 has been saved in folder : sush\n",
      "[INFO] Image 96 has been saved in folder : sush\n",
      "[INFO] Image 97 has been saved in folder : sush\n",
      "[INFO] Image 98 has been saved in folder : sush\n",
      "[INFO] Image 99 has been saved in folder : sush\n",
      "[INFO] Image 100 has been saved in folder : sush\n",
      "[INFO] Dataset has been created for sush\n"
     ]
    }
   ],
   "source": [
    "while True:\n",
    "    \n",
    "    _, img = cv.read()\n",
    "\n",
    "   \n",
    "    original_img = img.copy()\n",
    "\n",
    " \n",
    "    gray_img = cv2.cvtColor(img, cv2.COLOR_BGR2GRAY)\n",
    "\n",
    "   \n",
    "    faces = faceCascade.detectMultiScale(gray_img,\n",
    "                                         scaleFactor=1.2,\n",
    "                                         minNeighbors=5,\n",
    "                                         minSize=(50, 50))\n",
    "\n",
    "    \n",
    "    for (x, y, w, h) in faces:\n",
    "        cv2.rectangle(img, (x, y), (x + w, y + h), (0, 255, 0), 2)\n",
    "\n",
    "   \n",
    "    cv2.imshow(\"Identified Face\", img)\n",
    "\n",
    "    \n",
    "    key = cv2.waitKey(1) & 0xFF\n",
    "\n",
    "       \n",
    "  \n",
    "    if key == ord('s'):\n",
    "      \n",
    "        if count <= 100:\n",
    "            saveImage(original_img, userName, userId, count)\n",
    "            count += 1\n",
    "        else:\n",
    "            break\n",
    "    elif key == ord('q'):\n",
    "        break\n",
    "\n",
    "print(\"[INFO] Dataset has been created for {}\".format(userName))\n"
   ]
  },
  {
   "cell_type": "code",
   "execution_count": 7,
   "metadata": {},
   "outputs": [],
   "source": [
    "cv.release()\n",
    "cv2.destroyAllWindows()"
   ]
  }
 ],
 "metadata": {
  "kernelspec": {
   "display_name": "Python 3",
   "language": "python",
   "name": "python3"
  },
  "language_info": {
   "codemirror_mode": {
    "name": "ipython",
    "version": 3
   },
   "file_extension": ".py",
   "mimetype": "text/x-python",
   "name": "python",
   "nbconvert_exporter": "python",
   "pygments_lexer": "ipython3",
   "version": "3.8.3"
  }
 },
 "nbformat": 4,
 "nbformat_minor": 4
}
